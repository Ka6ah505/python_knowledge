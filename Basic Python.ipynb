{
 "cells": [
  {
   "cell_type": "markdown",
   "metadata": {},
   "source": [
    "<h1>Базовые вопросы по Python на собеседованиях</h1>\n",
    "<ol>\n",
    "    <li>Стандартные типы данных</li>\n",
    "    <li>Разница между list, tuple, range</li>\n",
    "    <li>Set приимущества, отличия</li>\n",
    "    <li>Что такое PEP8?</li>\n",
    "    <li>Стандартные библиотеки (sys, re, os, ...)</li>\n",
    "    <li>Swap двух переменных</li>\n",
    "    <li>Разница между range и xrange</li>\n",
    "    <li>Задачи на нахождение min и max в списке</li>\n",
    "    <li>Операции со строками (разделить по разделителю, замена символов, ...)</li>\n",
    "    <li>Mutable и Inmutable типы данных. Что значит?</li>\n",
    "    <li>Регулярные выражения</li>\n",
    "    <li></li>\n",
    "    <li></li>\n",
    "</ol>"
   ]
  },
  {
   "cell_type": "markdown",
   "metadata": {},
   "source": [
    "<h1>Задачи по сложней</h1>\n",
    "<ol>\n",
    "    <li>Менеджер контекста</li>\n",
    "    <li>Итераторы и генераторы</li>\n",
    "    <li>yield</li>\n",
    "    <li>Lambda Function</li>\n",
    "    <li>Filter, map, reduce, zip</li>\n",
    "    <li>Тесты</li>\n",
    "    <li>Исключения</li>\n",
    "    <li>Работа с Базой данных</li>\n",
    "    <li>REST API</li>\n",
    "    <li>GET and POST query</li>\n",
    "    <li>...</li>\n",
    "</ol>"
   ]
  },
  {
   "cell_type": "markdown",
   "metadata": {},
   "source": [
    "<h1>Хардкорные вопросы</h1>\n",
    "<ol>\n",
    "    <li>Плюсы и минусы множественного наследования</li>\n",
    "    <li>NEW and OLD style classes (когда? где? что такое?)</li>\n",
    "    <li>Method Redduction Order (MRO)</li>\n",
    "    <li>__slots__ для чего, когда были введены</li>\n",
    "    <li>дескриптор протокол</li>\n",
    "    <li>мультипроцессинг и срединг(thread)</li>\n",
    "    <li>metaclasses как создаются и для чего</li>\n",
    "    <li>функция type для чего и как используют?</li>\n",
    "    <li>....</li>\n",
    "</ol>"
   ]
  },
  {
   "cell_type": "markdown",
   "metadata": {},
   "source": [
    "# ------------------------------------------------------------- #"
   ]
  },
  {
   "cell_type": "markdown",
   "metadata": {},
   "source": [
    "<h1>БАЗА</h1>"
   ]
  },
  {
   "cell_type": "markdown",
   "metadata": {},
   "source": [
    "1. Стандартные типы данных:\n",
    "\n",
    "Type | initialization | Example | Mutable\n",
    "--- | --- | --- | ---\n",
    "integer | int() | -1, 32 ... | Immutable\n",
    "long | long() | 51924361L | Immutable\n",
    "float | float() | 2.1, -4.3, .5| Immutable\n",
    "complex| complex() | 3.14j, 1 + 2j| Immutable\n",
    "string| str() | \"\", \"daaf\" | Immutable\n",
    "boolean| bool() | True, False| Immutable\n",
    "--- | --- | --- | ---\n",
    "list| list(), [] | [], [1,2,3]| Mutable\n",
    "dict| dict(), {} | {key: value} | Mutable\n",
    "set| set() | {1, \"2\", -4} | Mutable\n",
    "tuple| tuple(), ()| (1,2,3) | Immutable\n",
    "frozenset| frozenset()| {1, \"2\", -4}| Immutable"
   ]
  },
  {
   "cell_type": "markdown",
   "metadata": {},
   "source": [
    "2. Разница между tuple vs. list vs. range\n",
    " - tuple - неизменяемый тип данных, быстрее итерируется чем список, \n",
    " - list - изменяемый тип данных\n",
    " - range - генератор последовательности в python3 (в Python2 возвращает list, для генерации используется xrange)"
   ]
  },
  {
   "cell_type": "markdown",
   "metadata": {},
   "source": [
    "3. Set - преимущества\n",
    " - Set - контейнер с неповторяющимися неупорядоченными элементами\n",
    " - Frozenset - тоже что и set, но неизменяемый тип"
   ]
  },
  {
   "cell_type": "markdown",
   "metadata": {},
   "source": [
    "4. PEP8 - соглашение о стиле кода в Python"
   ]
  },
  {
   "cell_type": "markdown",
   "metadata": {},
   "source": [
    "5. Стандартные библиотеки\n",
    " 1. sys - функции и константы для взаимодействия с интерпретатором python. Так же важные переменные (argv-аргум. команд  строки, maxint - масимальное целое, stdin,stdout,stderr стандартные потоки ввода/вывода)\n",
    " 2. contextlib - вспомогательные функции для поддержки оператора with\n",
    " 3. datetime - содержит классы date, time, datetime, timedelta, tzinfo\n",
    " 4. collection - модуль со специальными контейнерами.\n",
    " 5. os - взаимодействие с OS (os.path - служит для манипуляуии с путями к файлам в независимом от вида платформе)\n",
    " 6. string - содержит различные константы, которые можно импользовать при обработке текстов (ascii_letters, ascii_uppercase, digits)\n",
    " 7. re - поддержка регуляных выражений (sub-замена, split-замена, match,search - сравнения, finditer,findall-поиска)\n",
    " 8. bzip2/gzip/tar/zipfile - работа с аривами\n",
    " 9. ConfigParser - модуль чтения и записи конфигурационных файлов\n",
    " 10. hashlib - модуль криптографии (md5, hmac ... )\n",
    " 11. smtplib - модуль для отправки сообщений по почте.\n",
    " 12. dumbdbm - базаданных с доступом по ключу\n",
    " 13. sqlite3 - кроссплатформенная БД\n",
    " 14. threading - модуль для многопоточного вычисления\n",
    " 15. tkinter - модуль для построения пользовательского интерфейса"
   ]
  },
  {
   "cell_type": "markdown",
   "metadata": {},
   "source": [
    "6. Swap двух преременных a = 5 b = 6\n",
    "<br>\n",
    "a,b = b,a\n",
    "<hr>\n",
    "a = 6\n",
    "b = 5"
   ]
  },
  {
   "cell_type": "markdown",
   "metadata": {},
   "source": [
    "7. Разница между range и xrange\n",
    " 1. range в python2 создает список, xrange возвращает значения по одному не сохраняя весь список в памяти\n",
    " 2. range в python3 работает как xrange в python2, а сам xrange убран в третьей версии"
   ]
  },
  {
   "cell_type": "markdown",
   "metadata": {},
   "source": [
    "8. Нахождение min и мах в списке\n",
    " - Используются встроенные функции max и min  в которые и передаётся список\n",
    "  - max([1,2,3,4]) -> 4\n",
    "  - min([1,2,3,4]) -> 1"
   ]
  },
  {
   "cell_type": "markdown",
   "metadata": {},
   "source": [
    "9. Операции над строками\n",
    "    Строки в python - неизменяемые упорядоченные последовательности\n",
    " - Сырые строки r'C:\\Doc\\User' - происходит подавление экранирования(неможет заканчиваться обратным слешем)\n",
    " - Обычные строки 'C:\\\\Doc\\\\User' - для корректного отображения необходимо экранирвать обратные слеши\n",
    " 1. Конкатенация 'a'+'b':-> 'ab'\n",
    " 2. Дублирование 'ab'*3:-> 'ababab'\n",
    " 3. Длина строки len('ab'):-> 2\n",
    " 4. Доступ по индексу 'ab'[1]:-> 'b'\n",
    " 5. Извлечение среза 'abcde'[2:4]:-> 'cd' Прим. второй конец интервала невключается в вывод\n",
    "         можно задать шаг извлечения: 'abcde'[1::2]:-> 'bd' или 'abcde'[::-1]:-> 'edcba'\n",
    " 6. Поиск подстроки: 'abcde'.find('bc'):-> 1 Индекс первого вхождения\n",
    " 7. Поиск подстроки: 'abcabc'.rfind('bc'):-> 4 Индекс последнего вхождения\n",
    " 8. Поиск подстроки: 'abcde'.index('bc',[start],[end]):-> 1 Индекс первого вхождения\n",
    " 9. Поиск подстроки: 'abcabc'.rindex('bc',[start],[end]):-> 4 Индекс последнего вхождения\n",
    " 10. Замена подстроки: 'abcde'.replace('de', 'abc'):-> 'abcabc' \n",
    " 11. Разбиение строки: 'a,b,c,d'.split(','):-> [a,b,c,d]\n",
    " 12. Регистр: 'abc'.upper():-> 'ABC', 'ABC'.lower():-> 'abc'\n",
    " 13. Оканчание строки на шаблон 'abc.txt'.endswith('.txt):-> true\n",
    " 14. Сборка строки из последовательности: ','.join(['a','b','c']):-> 'a,b,c'\n",
    " 15. Количество непересекающихся входдений: 'txtxt'.count('txt'):-> 1\n",
    " 16. Удаление пробельных символов: ' abc '.strip():-> 'abc' (lstrip()-в начале строки, rstrip()-в конце строки)\n",
    " 17. Форматирование строки: 'Hello, {0}!!! How do you {arg}'.format('World', arg='do?')\n",
    "         ('Hello, {how}!!! How do you {arg}'.format_map({'how':'World', 'arg':'do'}))"
   ]
  },
  {
   "cell_type": "markdown",
   "metadata": {},
   "source": [
    "10. Mutable and InMutable types\n",
    " 1. Mutable - изменяемые типы (list, set, dict)\n",
    " 2. InMutable - неизменяемые (int, float, complex, tuple, string)"
   ]
  },
  {
   "cell_type": "markdown",
   "metadata": {},
   "source": [
    "11. Регулярные выражения\n",
    " 1. import re - импортирование библиотеки для работы с регулярными выражениями\n",
    " 2. Методы:\n",
    "     1. re.match(pattern, string) ищет по заданному шаблону в начале строки (pattern='AV', string='AV test AV')->объек если найдено иначе None.\n",
    "         1. group() -> возвращает найденное выражение\n",
    "         2. start() -> возвращает начальную позицию найденой строки\n",
    "         3. end() -> возвращает конечную позицию найденой строки (в реале надо получаем конец+1)\n",
    "         4. span() -> возвращает tuple c начальной и конечной позицией найденой строки\n",
    "     2. re.search(pattern, string) ищет по шаблону во всей строке, но возвращает только первое вхождение.\n",
    "         1. group() -> возвращает найденное выражение\n",
    "         2. start() -> возвращает начальную позицию найденой строки\n",
    "         3. end() -> возвращает конечную позицию найденой строки (в реале надо получаем конец+1)\n",
    "         4. span() -> возвращает tuple c начальной и конечной позицией найденой строки\n",
    "     3. re.findall(pattern, string) возвращает список всех найденных вхождений\n",
    "     4. re.split(pattern, string, [maxsplit=0]) разделяет строку по заданному шаблону\n",
    "     5. re.sub(pattern, repl, string) находит по шаблону и менят на указанную строку. Возвращает измененную строку.\n",
    "     6. re.compile(pattern)  сбор часто встречающегося регулярного выражения для дальнейшего использования\n",
    " 3. Операторы\n",
    "     1. \".\" - один любой символ, кроме \"\\n\"\n",
    "     2. \"?\" - 0 или 1 вхождения шаблона слева\n",
    "     3. \"+\" - 1 и более вхождений шаблона слева\n",
    "     4. \"\\*\" - 0 и более вхождений шаблона слева\n",
    "     5. \"\\w\" - Любая цифра или буква (\\W - всё, кроме буквы и цифры)\n",
    "     6. \"\\d\" - Любая цифра [0-9] (\\D - всё, кроме цифры)\n",
    "     7. \"\\s\" - любой пробельный символ (\\S - любой непробельный символ)\n",
    "     8. \"\\b\" - граница слова\n",
    "     9. \"[..]\" - Один из символов в скобках ([^..]-любой символ, кроме тех, что в скобках)\n",
    "     10. \"\\\\\" - Экранирование специальных символов (\\\\. означает точку или \\\\+ - знак \"плюс\")\n",
    "     11. ^ и $ - Начало и конец строки соответственно\n",
    "     12. {n,m} - От n до m вхождений ({,m}-от 0 до m)\n",
    "     13. \"a|b\" - Соответствует a или b\n",
    "     14. () - Группирует выражение и возвращает найденный тект\n",
    "     15. \\t, \\n, \\r - Символ табуляция, новой строки и возврата каретки соответственно"
   ]
  },
  {
   "cell_type": "code",
   "execution_count": 115,
   "metadata": {},
   "outputs": [
    {
     "name": "stdout",
     "output_type": "stream",
     "text": [
      "yes-> ['Udsa', 'AV', 'ab']\n"
     ]
    }
   ],
   "source": [
    "import re\n",
    "s = '1AAAV\\ Udsa s sb@gmail.com AV ab'\n",
    "pattern = re.compile('\\\\b[euioaEUIOA]\\w+')#(r'@(\\w+).\\w{2,3}')#('^\\w+')\n",
    "# result = re.sub('A*V', '--', s)\n",
    "result = pattern.findall(s)\n",
    "if result:\n",
    "    print('yes->', result)#, result.start(), result.end(), result.span())\n",
    "else:\n",
    "    print('no', result)"
   ]
  },
  {
   "cell_type": "code",
   "execution_count": null,
   "metadata": {},
   "outputs": [],
   "source": [
    "re.match('AV', 'AV s AV')"
   ]
  },
  {
   "cell_type": "code",
   "execution_count": 118,
   "metadata": {},
   "outputs": [
    {
     "data": {
      "text/plain": [
       "'Рпп56'"
      ]
     },
     "execution_count": 118,
     "metadata": {},
     "output_type": "execute_result"
    }
   ],
   "source": [
    "# удаление смайлов из строки\n",
    "your_string = 'Рпп:-)))56'\n",
    "pattern = ':-\\)+'\n",
    "re.sub(pattern, '', your_string)"
   ]
  },
  {
   "cell_type": "markdown",
   "metadata": {},
   "source": [
    "<br><hr>"
   ]
  },
  {
   "cell_type": "markdown",
   "metadata": {},
   "source": [
    "<h1>Задачи посложнее</h1>"
   ]
  },
  {
   "cell_type": "markdown",
   "metadata": {},
   "source": [
    "1. Менеджер контекста - определяет действия которые должны происходить до и после выполнения блока кода.\n",
    "    Определяется контрукцией with ... as внутри которой располагается блок кода. \n",
    "    Часто используются в задачах сходных с:\n",
    "     - сохранением и восстановлением глобального состояния;\n",
    "     - блокировкой и разблокировкой ресурсов;\n",
    "     - открытием и закрытиям файлов."
   ]
  },
  {
   "cell_type": "code",
   "execution_count": 67,
   "metadata": {},
   "outputs": [
    {
     "name": "stdout",
     "output_type": "stream",
     "text": [
      "Elapsed time 0.136sec\n"
     ]
    }
   ],
   "source": [
    "# Пример контекстного менеджера для замера выполнения блока кода\n",
    "import time\n",
    "class ContManager(object):\n",
    "    def __init__(self):\n",
    "        pass\n",
    "\n",
    "    def __enter__(self):\n",
    "        self._startTime = time.time()\n",
    "    \n",
    "    def __exit__(self, type, value, traceback):\n",
    "        print('Elapsed time {:.3f}sec'.format(time.time()-self._startTime))\n",
    "        return True  # Подавить исключение\n",
    "    \n",
    "    def __del__(self):\n",
    "        pass\n",
    "# замер времени выполнения\n",
    "with ContManager() as c:\n",
    "    [x for x in range(1000000)]"
   ]
  },
  {
   "cell_type": "markdown",
   "metadata": {},
   "source": [
    "2. Итераторы и генераторы\n",
    "    1. Генератор - схожа с регуляной функцией языка, но использует один или несколько операторов yield. Кроме того, если вы проверяете размер памяти, генератор потребляет гораздо меньше памяти, так как ему не нужно хранить все значения в памяти одновременно.\n",
    "    2. Итератор - представляет собой объект перечислитель, который для данного объекта выдает следующий элемент по заложенному алгоритму. (Каждый генераторный объект является итератором, но не наоборот.) Пользовательский объект итератора может быть создан, если его класс реализует метод \\__iter__ и \\__next__"
   ]
  },
  {
   "cell_type": "code",
   "execution_count": 69,
   "metadata": {},
   "outputs": [],
   "source": [
    "# примеры\n",
    "def myGeneratorList(n):\n",
    "    for i in range(n):\n",
    "        yield i\n",
    "\n",
    "def myIterableList(n):\n",
    "    ll = n*[None]\n",
    "    for i in range(n):\n",
    "        ll[i] = i\n",
    "    return ll"
   ]
  },
  {
   "cell_type": "markdown",
   "metadata": {},
   "source": [
    "3. Yield - это ключевое слово, которое используется примерно как return — отличие в том, что функция вернёт генератор."
   ]
  },
  {
   "cell_type": "code",
   "execution_count": 74,
   "metadata": {},
   "outputs": [],
   "source": [
    "def countdown(n):\n",
    "    while 0 < n:\n",
    "        yield n\n",
    "        n = n - 1\n",
    "        \n",
    "for i in countdown(5):\n",
    "    pass\n",
    "#     print(i)"
   ]
  },
  {
   "cell_type": "markdown",
   "metadata": {},
   "source": [
    "4. Lambda Function - анонимная функция(одноразовая функция которая выполняется при создании)\n",
    "\n",
    "    Синтаксис - lambda arguments: expression"
   ]
  },
  {
   "cell_type": "markdown",
   "metadata": {},
   "source": [
    "5. Filter, map, reduce, zip\n",
    "    1. __map__ - принимает два аргумента: функцию и аргумент составного типа данных, например, список. map применяет к каждому элементу списка переданную функцию.\n",
    "    2. __filter__ - предлагает элегантный вариант фильтрации элементов последовательности. Принимает в качестве аргументов функцию и последовательность, которую необходимо отфильтровать: __filter(function, sequence)__\n",
    "    3. __reduce__ - применяет указанную функцию к элементам последовательности, сводя её к единственному значению. __reduce(function, sequence)__, где __function__ - функция двух параметров 1 аргумент результат предыдущего вычисления 2 аргумент - следующий элемент последовательности. В Python3 находится в модуле functools\n",
    "    4. Zip - объединяет в кортежи элементы из последовательностей переданных в качестве аргументов(останавливается как только достигнут конец самого короткой последовательности)"
   ]
  }
 ],
 "metadata": {
  "kernelspec": {
   "display_name": "Python 3",
   "language": "python",
   "name": "python3"
  },
  "language_info": {
   "codemirror_mode": {
    "name": "ipython",
    "version": 3
   },
   "file_extension": ".py",
   "mimetype": "text/x-python",
   "name": "python",
   "nbconvert_exporter": "python",
   "pygments_lexer": "ipython3",
   "version": "3.7.4"
  }
 },
 "nbformat": 4,
 "nbformat_minor": 2
}
