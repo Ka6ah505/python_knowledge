{
 "cells": [
  {
   "cell_type": "markdown",
   "metadata": {},
   "source": [
    "<li>ООП\n",
    "        <ol>\n",
    "            <li>self и cls</li>\n",
    "            <li>Метод класса(@classmethod) vs. Статический метод(@staticmethod)</li>\n",
    "            <li>Анонимные функции</li>\n",
    "            <li>Шаблоны проектирования(как пользоваться)</li>\n",
    "            <li>Singleton</li>\n",
    "            <li>Decorator как и где использовать</li>\n",
    "            <li>Magic methods</li>\n",
    "            <li>Tasks and coroutines</li>\n",
    "            <li>...</li>\n",
    "        </ol>\n",
    "    </li>"
   ]
  },
  {
   "cell_type": "markdown",
   "metadata": {},
   "source": [
    "6. ООП <br>\n",
    "   Instance - экземпляр класса\n",
    "  1. self и cls - первые аргументы, которые передаются в методы класса.\n",
    "     - self - означает что создан метод для экземпляра класса\n",
    "     - cls - означает что метод создан для класса"
   ]
  },
  {
   "cell_type": "code",
   "execution_count": null,
   "metadata": {},
   "outputs": [],
   "source": [
    "class TestClass():\n",
    "    def __init__(self, a):\n",
    "        self.a = a\n",
    "        \n",
    "    def printVariable(self):\n",
    "        print('My variable a is {0}'.format(self.a))\n",
    "        \n",
    "    def printVariable1(cls, b):\n",
    "        cls.a = b + cls.a\n",
    "        print('My variable a is {0}'.format(cls.a))\n",
    "        \n",
    "# старый способ наследования и инициализации класса\n",
    "class TestClass1(TestClass):\n",
    "    def __init__(self, aa):\n",
    "        TestClass.__init__(self, aa)\n",
    "        self.aa = aa\n",
    "\n",
    "# новый способ наследование и инициализации класса\n",
    "class TestClass2(TestClass):\n",
    "    def __init__(self, aa):\n",
    "        super().__init__(aa)\n",
    "#         super(TestClass, self).__init__(aa)  Python2\n",
    "        self.aa = aa"
   ]
  },
  {
   "cell_type": "code",
   "execution_count": null,
   "metadata": {},
   "outputs": [],
   "source": [
    "my2_ = TestClass2(2)\n",
    "my2_.printVariable()"
   ]
  },
  {
   "cell_type": "markdown",
   "metadata": {},
   "source": [
    "  2. Метод класса(@classmethod) vs. Статический метод(@staticmethod)\n",
    "      1. @classmethod - когда этот метод вызывается, мы передаем класс в качестве первого аргумента вместо экземпляра этого класса (как обычно мы делаем с методами). Это означает, что вы можете использовать класс и его свойства внутри этого метода, а не конкретный экземпляр.\n",
    "      2. @staticmethod - это не что иное, как функция, определенная внутри класса. Он может быть вызван без создания экземпляра класса(Наследуется, но не переопределяется)"
   ]
  },
  {
   "cell_type": "code",
   "execution_count": null,
   "metadata": {},
   "outputs": [],
   "source": [
    "from abc import abstractmethod\n",
    "class My_class():\n",
    "    def __init__(self, a):\n",
    "        self.a = a\n",
    "        \n",
    "    def printVariable(self):\n",
    "        print('Variable is {0}'.format(self.a))\n",
    "#         self.printVariable_(10)\n",
    "#         My_class.printVariable_(10)\n",
    "    \n",
    "#     @abstractmethod\n",
    "    @staticmethod\n",
    "    def printVariable_(a):\n",
    "        print('Variable2 is {0}'.format(a))"
   ]
  },
  {
   "cell_type": "code",
   "execution_count": null,
   "metadata": {},
   "outputs": [],
   "source": [
    "m = My_class(2)"
   ]
  },
  {
   "cell_type": "code",
   "execution_count": null,
   "metadata": {},
   "outputs": [],
   "source": [
    "m.printVariable()"
   ]
  },
  {
   "cell_type": "code",
   "execution_count": null,
   "metadata": {},
   "outputs": [],
   "source": [
    "My_class.printVariable_(4)"
   ]
  },
  {
   "cell_type": "code",
   "execution_count": null,
   "metadata": {},
   "outputs": [],
   "source": [
    "class Child_my_class(My_class):\n",
    "    def __init__(self, a):\n",
    "        super().__init__(a)\n",
    "        self.aa = a + 10\n",
    "    \n",
    "#     def printVariable_(a):\n",
    "#         print('Variables are {0} and {1}'.format(a,10))"
   ]
  },
  {
   "cell_type": "code",
   "execution_count": null,
   "metadata": {},
   "outputs": [],
   "source": [
    "ch_my = Child_my_class(10)"
   ]
  },
  {
   "cell_type": "code",
   "execution_count": null,
   "metadata": {},
   "outputs": [],
   "source": [
    "ch_my.printVariable_(500)"
   ]
  },
  {
   "cell_type": "code",
   "execution_count": null,
   "metadata": {},
   "outputs": [],
   "source": [
    "a:int = 10\n",
    "b:int = 15\n",
    "def sq_sum(v1:int, v2:int) -> int:\n",
    "    return v1**2 + v2**2\n",
    "print(sq_sum(a, b))"
   ]
  }
 ],
 "metadata": {
  "kernelspec": {
   "display_name": "Python 3",
   "language": "python",
   "name": "python3"
  },
  "language_info": {
   "codemirror_mode": {
    "name": "ipython",
    "version": 3
   },
   "file_extension": ".py",
   "mimetype": "text/x-python",
   "name": "python",
   "nbconvert_exporter": "python",
   "pygments_lexer": "ipython3",
   "version": "3.7.4"
  }
 },
 "nbformat": 4,
 "nbformat_minor": 2
}
