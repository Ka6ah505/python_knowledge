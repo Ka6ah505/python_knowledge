{
 "cells": [
  {
   "cell_type": "markdown",
   "metadata": {},
   "source": [
    "## Перемещение нулей в конец массива"
   ]
  },
  {
   "cell_type": "code",
   "execution_count": 1,
   "metadata": {},
   "outputs": [],
   "source": [
    "def move_zeros(array):\n",
    "    \"\"\"\n",
    "        1. Создается массив нулей\n",
    "        2. Переносятся все не нулевые элементы \n",
    "    \"\"\"\n",
    "    n = len(array)\n",
    "    result = [0 for _ in range(n)]\n",
    "    curr_index = 0\n",
    "    for i in range(n):\n",
    "        if array[i] != 0:\n",
    "            result[curr_index] = array[i]\n",
    "            curr_index += 1\n",
    "    return result\n",
    "\n",
    "assert move_zeros([0,1,2,0]) == [1,2,0,0]"
   ]
  },
  {
   "cell_type": "code",
   "execution_count": null,
   "metadata": {},
   "outputs": [],
   "source": []
  }
 ],
 "metadata": {
  "kernelspec": {
   "display_name": "Python 3",
   "language": "python",
   "name": "python3"
  },
  "language_info": {
   "codemirror_mode": {
    "name": "ipython",
    "version": 3
   },
   "file_extension": ".py",
   "mimetype": "text/x-python",
   "name": "python",
   "nbconvert_exporter": "python",
   "pygments_lexer": "ipython3",
   "version": "3.7.4"
  }
 },
 "nbformat": 4,
 "nbformat_minor": 2
}
