{
 "cells": [
  {
   "cell_type": "code",
   "execution_count": 32,
   "metadata": {},
   "outputs": [],
   "source": [
    "import unittest"
   ]
  },
  {
   "cell_type": "markdown",
   "metadata": {},
   "source": [
    "## Перемещение нулей в конец массива"
   ]
  },
  {
   "cell_type": "code",
   "execution_count": 1,
   "metadata": {},
   "outputs": [],
   "source": [
    "def move_zeros(array):\n",
    "    \"\"\"\n",
    "        1. Создается массив нулей\n",
    "        2. Переносятся все не нулевые элементы \n",
    "    \"\"\"\n",
    "    n = len(array)\n",
    "    result = [0 for _ in range(n)]\n",
    "    curr_index = 0\n",
    "    for i in range(n):\n",
    "        if array[i] != 0:\n",
    "            result[curr_index] = array[i]\n",
    "            curr_index += 1\n",
    "    return result\n",
    "\n",
    "assert move_zeros([0,1,2,0]) == [1,2,0,0]"
   ]
  },
  {
   "cell_type": "markdown",
   "metadata": {},
   "source": [
    "## Проверка Судоку"
   ]
  },
  {
   "cell_type": "code",
   "execution_count": 30,
   "metadata": {},
   "outputs": [],
   "source": [
    "def valid_solution(board):\n",
    "    ideal = {1,2,3,4,5,6,7,8,9}\n",
    "    \n",
    "    for row in board:\n",
    "        if ideal != set(row):\n",
    "            return False\n",
    "    \n",
    "    column = set()\n",
    "    for icol in range(9):\n",
    "        for row in board:\n",
    "            column.add(row[icol])\n",
    "        if ideal != column:\n",
    "            return False\n",
    "        column = set()\n",
    "    \n",
    "    sub_box = set()\n",
    "    for i in range(0, 9, 3):\n",
    "        for j in range(0,9,3):\n",
    "            sub_box.add(board[i][j])\n",
    "            sub_box.add(board[i][j+1])\n",
    "            sub_box.add(board[i][j+2])\n",
    "            sub_box.add(board[i+1][j])\n",
    "            sub_box.add(board[i+1][j+1])\n",
    "            sub_box.add(board[i+1][j+2])\n",
    "            sub_box.add(board[i+2][j])\n",
    "            sub_box.add(board[i+2][j+1])\n",
    "            sub_box.add(board[i+2][j+2])\n",
    "            if sub_box != ideal:\n",
    "                return False\n",
    "            sub_box = set()\n",
    "\n",
    "    return True"
   ]
  },
  {
   "cell_type": "code",
   "execution_count": 54,
   "metadata": {},
   "outputs": [],
   "source": [
    "class Test(unittest.TestCase):\n",
    "    def test_sudoku(self):\n",
    "        answer = valid_solution([\n",
    "            [5, 3, 4, 6, 7, 8, 9, 1, 2], \n",
    "            [6, 7, 2, 1, 9, 5, 3, 4, 8],\n",
    "            [1, 9, 8, 3, 4, 2, 5, 6, 7],\n",
    "            [8, 5, 9, 7, 6, 1, 4, 2, 3],\n",
    "            [4, 2, 6, 8, 5, 3, 7, 9, 1],\n",
    "            [7, 1, 3, 9, 2, 4, 8, 5, 6],\n",
    "            [9, 6, 1, 5, 3, 7, 2, 8, 4],\n",
    "            [2, 8, 7, 4, 1, 9, 6, 3, 5],\n",
    "            [3, 4, 5, 2, 8, 6, 1, 7, 9]])\n",
    "        self.assertEqual(answer, True)\n",
    "        answer = valid_solution([\n",
    "            [1, 2, 3, 4, 5, 6, 7, 8, 9],\n",
    "            [2, 3, 4, 5, 6, 7, 8, 9, 1],\n",
    "            [3, 4, 5, 6, 7, 8, 9, 1, 2],\n",
    "            [4, 5, 6, 7, 8, 9, 1, 2, 3],\n",
    "            [5, 6, 7, 8, 9, 1, 2, 3, 4],\n",
    "            [6, 7, 8, 9, 1, 2, 3, 4, 5],\n",
    "            [7, 8, 9, 1, 2, 3, 4, 5, 6],\n",
    "            [8, 9, 1, 2, 3, 4, 5, 6, 7],\n",
    "            [9, 1, 2, 3, 4, 5, 6, 7, 8]])\n",
    "        self.assertEqual(answer, False)"
   ]
  },
  {
   "cell_type": "code",
   "execution_count": 55,
   "metadata": {},
   "outputs": [
    {
     "name": "stderr",
     "output_type": "stream",
     "text": [
      "test_sudoku (__main__.Test) ... ok\n",
      "\n",
      "----------------------------------------------------------------------\n",
      "Ran 1 test in 0.002s\n",
      "\n",
      "OK\n"
     ]
    },
    {
     "data": {
      "text/plain": [
       "<unittest.main.TestProgram at 0x7f1945e82290>"
      ]
     },
     "execution_count": 55,
     "metadata": {},
     "output_type": "execute_result"
    }
   ],
   "source": [
    "unittest.main(argv=[''], verbosity=2, exit=False)"
   ]
  }
 ],
 "metadata": {
  "kernelspec": {
   "display_name": "Python 3",
   "language": "python",
   "name": "python3"
  },
  "language_info": {
   "codemirror_mode": {
    "name": "ipython",
    "version": 3
   },
   "file_extension": ".py",
   "mimetype": "text/x-python",
   "name": "python",
   "nbconvert_exporter": "python",
   "pygments_lexer": "ipython3",
   "version": "3.7.4"
  }
 },
 "nbformat": 4,
 "nbformat_minor": 2
}
