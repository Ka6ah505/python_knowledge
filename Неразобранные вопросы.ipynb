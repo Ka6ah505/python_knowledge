{
 "cells": [
  {
   "cell_type": "markdown",
   "metadata": {},
   "source": [
    "# На доработку №1\n",
    "https://www.youtube.com/watch?v=y1FaU6Avve0\n",
    "-------------------------------------\n",
    "Питон\n",
    "- инкапсуляция\n",
    "- модули и пакеты\n",
    "- наследование\n",
    "- приватность в питоне\n",
    "- магические методы (https://habr.com/ru/post/186608/)\n",
    "- исключения\n",
    "- comprehensions\n",
    "- рекурсия vs итерирование\n",
    "- декораторы + практическая реализация\n",
    "- контекстный менеджер\n",
    "- метаклассы\n",
    "- практическая задача (проверка анаграмм)\n",
    "- тестирование (методологии тестирования)\n",
    "\n",
    "Общие вопросы\n",
    "- JWT\n",
    "- REST\n",
    "- SOAP\n",
    "- брокеры\n",
    "- асинхронность и параллелизм"
   ]
  },
  {
   "cell_type": "markdown",
   "metadata": {},
   "source": [
    "# На доработку №2\n",
    "https://www.youtube.com/watch?v=JXJjE2AKggM&t=978s\n",
    "----------------------\n",
    "Python\n",
    "- отличия __new__ от __init__ (предпосылки переопределения new)\n",
    "- слоты\n",
    "- метаклассы\n",
    "- SOLID (паттерны - шаблоны проектирования)\n",
    "\n",
    "Django\n",
    "- наследование моделей\n",
    "- где лучше расположить логику (модели vs сериализаторы)\n",
    "- где лучше расположить логику (модели vs менеджеры)\n",
    "- django middleware\n",
    "- drf permissions\n",
    "\n",
    "Общие вопросы\n",
    "- REST API\n",
    "- индексы в postgres\n",
    "- celery\n",
    "- redis vs postgres\n",
    "- NoSQL базы данных"
   ]
  },
  {
   "cell_type": "code",
   "execution_count": null,
   "metadata": {},
   "outputs": [],
   "source": []
  }
 ],
 "metadata": {
  "kernelspec": {
   "display_name": "Python 3",
   "language": "python",
   "name": "python3"
  },
  "language_info": {
   "codemirror_mode": {
    "name": "ipython",
    "version": 3
   },
   "file_extension": ".py",
   "mimetype": "text/x-python",
   "name": "python",
   "nbconvert_exporter": "python",
   "pygments_lexer": "ipython3",
   "version": "3.7.4"
  }
 },
 "nbformat": 4,
 "nbformat_minor": 2
}
